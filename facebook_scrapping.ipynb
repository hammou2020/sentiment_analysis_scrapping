{
 "cells": [
  {
   "cell_type": "code",
   "execution_count": 3,
   "metadata": {},
   "outputs": [],
   "source": [
    "from selenium import webdriver\n",
    "import time\n",
    "import argparse\n",
    "import csv"
   ]
  },
  {
   "cell_type": "code",
   "execution_count": 2,
   "metadata": {},
   "outputs": [
    {
     "name": "stderr",
     "output_type": "stream",
     "text": [
      "usage: ipykernel_launcher.py [-h] [-p PAGES [PAGES ...]]\n",
      "                             [-g GROUPS [GROUPS ...]] [-d DEPTH]\n",
      "ipykernel_launcher.py: error: unrecognized arguments: -f C:\\Users\\006872\\AppData\\Roaming\\jupyter\\runtime\\kernel-0469d2f2-cc19-4fe3-85e1-495ed8e97b42.json\n"
     ]
    },
    {
     "ename": "SystemExit",
     "evalue": "2",
     "output_type": "error",
     "traceback": [
      "An exception has occurred, use %tb to see the full traceback.\n",
      "\u001b[1;31mSystemExit\u001b[0m\u001b[1;31m:\u001b[0m 2\n"
     ]
    },
    {
     "name": "stderr",
     "output_type": "stream",
     "text": [
      "C:\\Users\\006872\\AppData\\Local\\Continuum\\anaconda3\\lib\\site-packages\\IPython\\core\\interactiveshell.py:3333: UserWarning: To exit: use 'exit', 'quit', or Ctrl-D.\n",
      "  warn(\"To exit: use 'exit', 'quit', or Ctrl-D.\", stacklevel=1)\n"
     ]
    }
   ],
   "source": [
    "parser = argparse.ArgumentParser(description='Non API public FB miner')\n",
    "\n",
    "parser.add_argument('-p', '--pages', nargs='+',\n",
    "                    dest=\"pages\",\n",
    "                    help=\"List the pages you want to scrape for recent posts\")\n",
    "\n",
    "parser.add_argument(\"-g\", '--groups', nargs='+',\n",
    "                    dest=\"groups\",\n",
    "                    help=\"List the groups you want to scrape for recent posts\")\n",
    "\n",
    "parser.add_argument(\"-d\", \"--depth\", action=\"store\",\n",
    "                    dest=\"depth\", default=5, type=int,\n",
    "                    help=\"How many recent posts you want to gather -- in multiples of (roughly) 8.\")\n",
    "\n",
    "args = parser.parse_args()"
   ]
  },
  {
   "cell_type": "code",
   "execution_count": null,
   "metadata": {},
   "outputs": [],
   "source": []
  }
 ],
 "metadata": {
  "kernelspec": {
   "display_name": "Python 3",
   "language": "python",
   "name": "python3"
  },
  "language_info": {
   "codemirror_mode": {
    "name": "ipython",
    "version": 3
   },
   "file_extension": ".py",
   "mimetype": "text/x-python",
   "name": "python",
   "nbconvert_exporter": "python",
   "pygments_lexer": "ipython3",
   "version": "3.7.3"
  }
 },
 "nbformat": 4,
 "nbformat_minor": 2
}
